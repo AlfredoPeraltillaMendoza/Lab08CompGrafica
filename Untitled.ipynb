{
 "cells": [
  {
   "cell_type": "code",
   "execution_count": 2,
   "id": "f0bcdbc6-7683-4d7b-9ff3-0401f4e10256",
   "metadata": {},
   "outputs": [
    {
     "data": {
      "text/plain": [
       "PIL.JpegImagePlugin.JpegImageFile"
      ]
     },
     "execution_count": 2,
     "metadata": {},
     "output_type": "execute_result"
    }
   ],
   "source": [
    "import numpy as np\n",
    "import matplotlib.pyplot as plt\n",
    "from PIL import Image\n",
    "pic = Image.open('C:/Users/Usuario/Downloads/diploma.jpg')\n",
    "type(pic) "
   ]
  },
  {
   "cell_type": "code",
   "execution_count": 7,
   "id": "ab215c37-7598-4f94-a7a9-3b5a7c25f7ff",
   "metadata": {},
   "outputs": [],
   "source": [
    "import cv2\n",
    "import numpy as np\n",
    "import os\n",
    "\n",
    "\n",
    "ruta_imagen = os.path.join(os.getcwd(), 'C:/Users/Usuario/Downloads/persona.jpg')\n",
    "imagen = cv2.imread(ruta_imagen)\n",
    "\n",
    "if imagen is None:\n",
    "    print(f\"Error al cargar la imagen: {ruta_imagen}\")\n",
    "    exit()  \n",
    "\n",
    "# Función para detectar caras usando Haar Cascade Classifier\n",
    "def detectar_cara(imagen):\n",
    "    clasificador_cara = cv2.CascadeClassifier(cv2.data.haarcascades + 'haarcascade_frontalface_default.xml')\n",
    "    caras = clasificador_cara.detectMultiScale(imagen, scaleFactor=1.1, minNeighbors=5, minSize=(30, 30))\n",
    "    return caras\n",
    "\n",
    "# 1. Mostrar solo el canal azul\n",
    "imagen_azul = imagen.copy()\n",
    "imagen_azul[:, :, 0] = 0  # Eliminar rojo\n",
    "imagen_azul[:, :, 1] = 0  # Eliminar verde\n",
    "cv2.imshow('Solo Canal Azul', imagen_azul)\n",
    "\n",
    "imagen_gris = cv2.cvtColor(imagen, cv2.COLOR_BGR2GRAY)\n",
    "cv2.imshow('Escala de Grises', imagen_gris)\n",
    "\n",
    "imagen_rojo_verde = imagen.copy()\n",
    "imagen_rojo_verde[:, :, 2] = 0  # Eliminar azul\n",
    "cv2.imshow('Rojo y Verde', imagen_rojo_verde)\n",
    "\n",
    "# 4. Dibujar círculo y texto\n",
    "caras = detectar_cara(imagen_gris)\n",
    "for (x, y, w, h) in caras:\n",
    "    centro = (x + w//2, y + h//2)\n",
    "    radio = min(w, h) // 2\n",
    "    cv2.circle(imagen, centro, radio, (0, 255, 0), 2)\n",
    "    cv2.putText(imagen, 'Persona', (x, y - 10), cv2.FONT_HERSHEY_SIMPLEX, 0.9, (0, 255, 0), 2)\n",
    "\n",
    "cv2.imshow('Imagen con Circulo y Texto', imagen)\n",
    "cv2.imwrite('imagen_con_circulo.jpg', imagen) \n",
    "\n",
    "def dibujar(event, x, y, flags, param):\n",
    "    if event == cv2.EVENT_LBUTTONDOWN:\n",
    "        cv2.circle(imagen, (x, y), 5, (0, 0, 255), -1)\n",
    "\n",
    "cv2.namedWindow('Dibujo')\n",
    "cv2.setMouseCallback('Dibujo', dibujar)\n",
    "\n",
    "while True:\n",
    "    cv2.imshow('Dibujo', imagen)\n",
    "    k = cv2.waitKey(1) & 0xFF\n",
    "    if k == 27: \n",
    "        break\n",
    "    elif k == ord('s'):  \n",
    "        cv2.imwrite('dibujo_guardado.jpg', imagen)\n",
    "\n",
    "cv2.destroyAllWindows()"
   ]
  },
  {
   "cell_type": "code",
   "execution_count": null,
   "id": "9db84c68-8630-4fcc-b15f-1a0ace2b67dc",
   "metadata": {},
   "outputs": [],
   "source": []
  },
  {
   "cell_type": "code",
   "execution_count": null,
   "id": "5d6f48d8-93bc-4597-bc90-28935ad9f7ad",
   "metadata": {},
   "outputs": [],
   "source": []
  }
 ],
 "metadata": {
  "kernelspec": {
   "display_name": "Python 3 (ipykernel)",
   "language": "python",
   "name": "python3"
  },
  "language_info": {
   "codemirror_mode": {
    "name": "ipython",
    "version": 3
   },
   "file_extension": ".py",
   "mimetype": "text/x-python",
   "name": "python",
   "nbconvert_exporter": "python",
   "pygments_lexer": "ipython3",
   "version": "3.12.4"
  }
 },
 "nbformat": 4,
 "nbformat_minor": 5
}
